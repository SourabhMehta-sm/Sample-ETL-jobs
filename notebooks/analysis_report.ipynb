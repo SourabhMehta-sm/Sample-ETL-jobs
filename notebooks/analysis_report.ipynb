{
 "cells": [
  {
   "cell_type": "code",
   "execution_count": null,
   "metadata": {},
   "outputs": [],
   "source": [
    "import pandas as pd"
   ]
  },
  {
   "cell_type": "code",
   "execution_count": null,
   "metadata": {},
   "outputs": [],
   "source": [
    "\n",
    "# Load your DataFrame from a CSV file or other data source\n",
    "# Replace 'your_data.csv' with the actual file path\n",
    "data_file = 'dags/data/beer_profile_and_ratings.csv'\n",
    "df = pd.read_csv(data_file)"
   ]
  },
  {
   "cell_type": "code",
   "execution_count": null,
   "metadata": {},
   "outputs": [],
   "source": [
    "# Define the columns for analysis\n",
    "columns_to_analyze = [\n",
    "    'ABV', 'Min IBU', 'Max IBU', 'Astringency', 'Body', 'Alcohol', 'Bitter',\n",
    "    'Sweet', 'Sour', 'Salty', 'Fruits', 'Hoppy', 'Spices', 'Malty',\n",
    "    'review_aroma', 'review_appearance', 'review_palate', 'review_taste', 'review_overall', 'number_of_reviews'\n",
    "]"
   ]
  },
  {
   "cell_type": "code",
   "execution_count": null,
   "metadata": {},
   "outputs": [],
   "source": [
    "# Perform data analysis\n",
    "analysis_results = {}\n",
    "\n",
    "# Calculate basic statistics for each column\n",
    "for column in columns_to_analyze:\n",
    "    mean_value = df[column].mean()\n",
    "    max_value = df[column].max()\n",
    "    min_value = df[column].min()\n",
    "    std_deviation = df[column].std()\n",
    "    analysis_results[f'{column}_Mean'] = mean_value\n",
    "    analysis_results[f'{column}_Max'] = max_value\n",
    "    analysis_results[f'{column}_Min'] = min_value\n",
    "    analysis_results[f'{column}_StdDev'] = std_deviation"
   ]
  },
  {
   "cell_type": "code",
   "execution_count": null,
   "metadata": {},
   "outputs": [],
   "source": [
    "# Convert the analysis results to a DataFrame\n",
    "analysis_df = pd.DataFrame.from_dict(analysis_results, orient='index', columns=['Value'])"
   ]
  },
  {
   "cell_type": "code",
   "execution_count": null,
   "metadata": {},
   "outputs": [],
   "source": [
    "# Save the analysis results to a CSV file\n",
    "analysis_result_file = 'dags/data/analysis_results.csv'\n",
    "analysis_df.to_csv(analysis_result_file)\n",
    "\n",
    "print(f\"Data analysis results saved to {analysis_result_file}\")"
   ]
  }
 ],
 "metadata": {
  "language_info": {
   "name": "python"
  }
 },
 "nbformat": 4,
 "nbformat_minor": 2
}
